{
 "cells": [
  {
   "cell_type": "code",
   "execution_count": null,
   "metadata": {},
   "outputs": [],
   "source": [
    "#This script is for extracting the location information about restaurants and parks in melbourne."
   ]
  },
  {
   "cell_type": "code",
   "execution_count": 6,
   "metadata": {
    "colab": {
     "base_uri": "https://localhost:8080/",
     "height": 91
    },
    "colab_type": "code",
    "collapsed": true,
    "id": "bgB_2wMQTTA0",
    "outputId": "1cf3cf51-ffbf-4911-f64d-0214ef2f508f"
   },
   "outputs": [
    {
     "name": "stdout",
     "output_type": "stream",
     "text": [
      "[-37.7, -37.7625, -37.825, -37.8875, -37.95, -38.0125, -38.075, -38.1375, -38.2, -38.2625, -38.325, -38.3875, -38.45, -38.5125, -38.575, -38.6375, -38.7]\n",
      "[144.9, 144.9625, 145.025, 145.0875, 145.15, 145.2125, 145.275, 145.3375, 145.4, 145.4625, 145.525, 145.5875, 145.65, 145.7125, 145.775, 145.8375, 145.9]\n"
     ]
    }
   ],
   "source": [
    "# This Code is responsible for getting all the coordinates which lie inside Melbourne City\n",
    "a = -37.7\n",
    "b = 144.9\n",
    "l1 = []\n",
    "l2 = []\n",
    "for i in range(17):\n",
    "    l1.append(a-0.0625*i)\n",
    "    l2.append(b+0.0625*i)\n",
    "print(l1)\n",
    "print (l2)"
   ]
  },
  {
   "cell_type": "code",
   "execution_count": 7,
   "metadata": {
    "colab": {
     "base_uri": "https://localhost:8080/",
     "height": 259
    },
    "colab_type": "code",
    "collapsed": true,
    "id": "Mg4HfNVMUXbY",
    "outputId": "ea7fd0c0-3979-4a46-de42-6a4c3995f2f8"
   },
   "outputs": [
    {
     "name": "stdout",
     "output_type": "stream",
     "text": [
      "Requirement already satisfied: googlemaps in /Users/kuldeepsuhag/anaconda3/lib/python3.7/site-packages (2.5.1)\n",
      "Requirement already satisfied: requests<3.0,>=2.11.1 in /Users/kuldeepsuhag/anaconda3/lib/python3.7/site-packages (from googlemaps) (2.21.0)\n",
      "Requirement already satisfied: certifi>=2017.4.17 in /Users/kuldeepsuhag/anaconda3/lib/python3.7/site-packages (from requests<3.0,>=2.11.1->googlemaps) (2019.3.9)\n",
      "Requirement already satisfied: idna<2.9,>=2.5 in /Users/kuldeepsuhag/anaconda3/lib/python3.7/site-packages (from requests<3.0,>=2.11.1->googlemaps) (2.8)\n",
      "Requirement already satisfied: urllib3<1.25,>=1.21.1 in /Users/kuldeepsuhag/anaconda3/lib/python3.7/site-packages (from requests<3.0,>=2.11.1->googlemaps) (1.24.1)\n",
      "Requirement already satisfied: chardet<3.1.0,>=3.0.2 in /Users/kuldeepsuhag/anaconda3/lib/python3.7/site-packages (from requests<3.0,>=2.11.1->googlemaps) (3.0.4)\n"
     ]
    }
   ],
   "source": [
    "!pip install googlemaps # installing googlemaps python api in jupyter notebook\n"
   ]
  },
  {
   "cell_type": "code",
   "execution_count": 8,
   "metadata": {
    "colab": {},
    "colab_type": "code",
    "collapsed": true,
    "id": "uWqZ-EmpTTBB"
   },
   "outputs": [],
   "source": [
    "# This function will make a tuple of the latitude and longitude. \n",
    "locationrange = []\n",
    "for a in l1:\n",
    "    for b in l2:\n",
    "        x = []\n",
    "        x.append(a)\n",
    "        x.append(b)\n",
    "        x = tuple(x)\n",
    "        locationrange.append(x)\n"
   ]
  },
  {
   "cell_type": "code",
   "execution_count": 1,
   "metadata": {
    "colab": {
     "base_uri": "https://localhost:8080/",
     "height": 102680
    },
    "colab_type": "code",
    "collapsed": true,
    "id": "Nw22ASsyTTBG",
    "outputId": "47610a29-1147-429e-9d72-02c2305a8b2b"
   },
   "outputs": [
    {
     "ename": "ValueError",
     "evalue": "Invalid API key provided.",
     "output_type": "error",
     "traceback": [
      "\u001b[0;31m---------------------------------------------------------------------------\u001b[0m",
      "\u001b[0;31mValueError\u001b[0m                                Traceback (most recent call last)",
      "\u001b[0;32m<ipython-input-1-ced4b9301cda>\u001b[0m in \u001b[0;36m<module>\u001b[0;34m\u001b[0m\n\u001b[1;32m      6\u001b[0m \u001b[0;32mimport\u001b[0m \u001b[0mjson\u001b[0m\u001b[0;34m\u001b[0m\u001b[0;34m\u001b[0m\u001b[0m\n\u001b[1;32m      7\u001b[0m \u001b[0;32mimport\u001b[0m \u001b[0municodedata\u001b[0m\u001b[0;34m\u001b[0m\u001b[0;34m\u001b[0m\u001b[0m\n\u001b[0;32m----> 8\u001b[0;31m \u001b[0mgmaps\u001b[0m \u001b[0;34m=\u001b[0m \u001b[0mgooglemaps\u001b[0m\u001b[0;34m.\u001b[0m\u001b[0mClient\u001b[0m\u001b[0;34m(\u001b[0m\u001b[0mkey\u001b[0m\u001b[0;34m=\u001b[0m\u001b[0;34m'API here'\u001b[0m\u001b[0;34m)\u001b[0m \u001b[0;31m#insert your google API key\u001b[0m\u001b[0;34m\u001b[0m\u001b[0;34m\u001b[0m\u001b[0m\n\u001b[0m\u001b[1;32m      9\u001b[0m \u001b[0mlocation_information\u001b[0m \u001b[0;34m=\u001b[0m \u001b[0;34m[\u001b[0m\u001b[0;34m]\u001b[0m\u001b[0;34m\u001b[0m\u001b[0;34m\u001b[0m\u001b[0m\n\u001b[1;32m     10\u001b[0m \u001b[0mname\u001b[0m \u001b[0;34m=\u001b[0m \u001b[0;34m[\u001b[0m\u001b[0;34m'Domino,KFC'\u001b[0m\u001b[0;34m]\u001b[0m \u001b[0;31m# Can add other restaurants in this array\u001b[0m\u001b[0;34m\u001b[0m\u001b[0;34m\u001b[0m\u001b[0m\n",
      "\u001b[0;32m~/anaconda3/lib/python3.7/site-packages/googlemaps/client.py\u001b[0m in \u001b[0;36m__init__\u001b[0;34m(self, key, client_id, client_secret, timeout, connect_timeout, read_timeout, retry_timeout, requests_kwargs, queries_per_second, channel)\u001b[0m\n\u001b[1;32m    111\u001b[0m \u001b[0;34m\u001b[0m\u001b[0m\n\u001b[1;32m    112\u001b[0m         \u001b[0;32mif\u001b[0m \u001b[0mkey\u001b[0m \u001b[0;32mand\u001b[0m \u001b[0;32mnot\u001b[0m \u001b[0mkey\u001b[0m\u001b[0;34m.\u001b[0m\u001b[0mstartswith\u001b[0m\u001b[0;34m(\u001b[0m\u001b[0;34m\"AIza\"\u001b[0m\u001b[0;34m)\u001b[0m\u001b[0;34m:\u001b[0m\u001b[0;34m\u001b[0m\u001b[0;34m\u001b[0m\u001b[0m\n\u001b[0;32m--> 113\u001b[0;31m             \u001b[0;32mraise\u001b[0m \u001b[0mValueError\u001b[0m\u001b[0;34m(\u001b[0m\u001b[0;34m\"Invalid API key provided.\"\u001b[0m\u001b[0;34m)\u001b[0m\u001b[0;34m\u001b[0m\u001b[0;34m\u001b[0m\u001b[0m\n\u001b[0m\u001b[1;32m    114\u001b[0m \u001b[0;34m\u001b[0m\u001b[0m\n\u001b[1;32m    115\u001b[0m         \u001b[0;32mif\u001b[0m \u001b[0mchannel\u001b[0m\u001b[0;34m:\u001b[0m\u001b[0;34m\u001b[0m\u001b[0;34m\u001b[0m\u001b[0m\n",
      "\u001b[0;31mValueError\u001b[0m: Invalid API key provided."
     ]
    }
   ],
   "source": [
    "#In this function we are using google map services, and we have to give parameter to get the information.\n",
    "#In the parameter we have to give a query like KFC or Dominos, it will find the information related to this query\n",
    "#in a particular latitude longitude with radius 5km\n",
    "\n",
    "import googlemaps\n",
    "from datetime import datetime\n",
    "import time\n",
    "import requests\n",
    "import json\n",
    "import unicodedata\n",
    "gmaps = googlemaps.Client(key='API here') #insert your google API key\n",
    "location_information = []\n",
    "name = ['Domino,KFC'] # Can add other restaurants in this array\n",
    "for onename in name:\n",
    "    for oneloc in locationrange:\n",
    "        place_result = gmaps.places(query = onename,\n",
    "                                   location = oneloc,\n",
    "                                   radius = 5000,\n",
    "                                   language = 'en-AU'\n",
    "                                   )\n",
    "        for a in place_result['results']:\n",
    "            restaurant = []\n",
    "            l = a['name']\n",
    "            restaurant.append(l)\n",
    "            restaurant.append(a['geometry']['location']['lat'])\n",
    "            restaurant.append(a['geometry']['location']['lng'])\n",
    "            location_information.append(restaurant)\n",
    "            break\n",
    "print ('complete')"
   ]
  },
  {
   "cell_type": "code",
   "execution_count": 14,
   "metadata": {
    "colab": {},
    "colab_type": "code",
    "collapsed": true,
    "id": "cmCXBHpVTTBd"
   },
   "outputs": [
    {
     "name": "stdout",
     "output_type": "stream",
     "text": [
      "complete\n"
     ]
    }
   ],
   "source": [
    "#This function gets detailed information about the parks in Melbourne city\n",
    "#in return we are getting data in JSON format, using which we are extracting, geometry location and name of the park.\n",
    "from urllib.request import urlopen\n",
    "query = [\"heelo+in+melbourne\"]\n",
    "link = \"https://maps.googleapis.com/maps/api/place/textsearch/json?query=park%20in%20melbourne&key=goggle api key\"\n",
    "f = urlopen(link)\n",
    "myfile = json.loads(f.read())\n",
    "\n",
    "park_information = []\n",
    "for a in myfile['results']:\n",
    "            park = []\n",
    "            l = a['name']\n",
    "            park.append(l)\n",
    "            k = a['plus_code']['compound_code']\n",
    "            s2 = ''.join(k.split()[1])\n",
    "            park.append(a['geometry']['location']['lat'])\n",
    "            park.append(a['geometry']['location']['lng'])\n",
    "            park.append(s2)\n",
    "            park_information.append(park)\n",
    "print ('complete')\n",
    "\n"
   ]
  },
  {
   "cell_type": "code",
   "execution_count": 15,
   "metadata": {
    "colab": {
     "base_uri": "https://localhost:8080/",
     "height": 119
    },
    "colab_type": "code",
    "collapsed": true,
    "id": "8jZr18VgTTBN",
    "outputId": "215d9944-775c-41cc-befa-5ed1593da7c8"
   },
   "outputs": [
    {
     "name": "stdout",
     "output_type": "stream",
     "text": [
      "==============final====================\n",
      "Total data collected : \n",
      "578\n",
      "Actual Location :\n",
      "90\n",
      "==============complete=================\n"
     ]
    }
   ],
   "source": [
    "#Removing Duplicates\n",
    "print ('==============final====================')\n",
    "loca_info = []\n",
    "i=0\n",
    "for one in location_information:\n",
    "    i = i + 1\n",
    "    if one not in loca_info:\n",
    "        loca_info.append(one)\n",
    "print ('Total data collected : ')\n",
    "print (i)\n",
    "print ('Actual Location :')\n",
    "print (len(loca_info)   )\n",
    "print ('==============complete=================')"
   ]
  },
  {
   "cell_type": "code",
   "execution_count": 16,
   "metadata": {
    "colab": {
     "base_uri": "https://localhost:8080/",
     "height": 1989
    },
    "colab_type": "code",
    "collapsed": true,
    "id": "TDTvezFYTTBT",
    "outputId": "48b7796d-f28a-4c0f-9386-3c544a8383b6"
   },
   "outputs": [
    {
     "name": "stdout",
     "output_type": "stream",
     "text": [
      "complete\n"
     ]
    }
   ],
   "source": [
    "#Storing the restaurant data in 'data' dictionary \n",
    "data = {}\n",
    "areas = []\n",
    "data['Restaurants'] = []\n",
    "for i in loca_info:\n",
    "    i[0] = i[0].replace(',', '')\n",
    "    if i[0] not in areas:\n",
    "        area = i[0]\n",
    "        test = {}\n",
    "        test = []\n",
    "        test.append(\n",
    "            {\n",
    "            'lat' : i[1],\n",
    "            'long' : i[2],\n",
    "            'place' : area\n",
    "                    })\n",
    "        data['Restaurants'].append(test) \n",
    "        areas.append(i[0])\n",
    "data['Parks'] = [] #Storing the park data in 'data' dictionary\n",
    "for i in park_information:\n",
    "    test = {}\n",
    "    test = []\n",
    "    test.append(\n",
    "        {\n",
    "        'lat' : i[1],\n",
    "        'long' : i[2],\n",
    "        'place' : i[0]\n",
    "                })\n",
    "    data['Parks'].append(test) \n",
    "    areas.append(i[0])\n",
    "print('complete')"
   ]
  },
  {
   "cell_type": "code",
   "execution_count": 35,
   "metadata": {
    "colab": {},
    "colab_type": "code",
    "collapsed": true,
    "id": "gyoAdNKfTTBa"
   },
   "outputs": [],
   "source": [
    "#Saving the file in JSON format\n",
    "import json\n",
    "with open('places.json', 'w') as outfile:\n",
    "    json.dump(data, outfile)"
   ]
  }
 ],
 "metadata": {
  "colab": {
   "name": "scrapper.ipynb",
   "provenance": [],
   "version": "0.3.2"
  },
  "kernelspec": {
   "display_name": "Python 3",
   "language": "python",
   "name": "python3"
  },
  "language_info": {
   "codemirror_mode": {
    "name": "ipython",
    "version": 3
   },
   "file_extension": ".py",
   "mimetype": "text/x-python",
   "name": "python",
   "nbconvert_exporter": "python",
   "pygments_lexer": "ipython3",
   "version": "3.7.3"
  }
 },
 "nbformat": 4,
 "nbformat_minor": 1
}
